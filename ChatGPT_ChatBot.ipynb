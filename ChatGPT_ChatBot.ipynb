{
  "cells": [
    {
      "cell_type": "code",
      "execution_count": null,
      "metadata": {
        "colab": {
          "base_uri": "https://localhost:8080/"
        },
        "id": "f2J5IGrgtyux",
        "outputId": "766ce061-0c9f-4c0b-86cc-54fe3ee46dc8"
      },
      "outputs": [],
      "source": [
        "!pip install openai\n",
        "!pip install python-dotenv"
      ]
    },
    {
      "cell_type": "code",
      "execution_count": null,
      "metadata": {
        "colab": {
          "base_uri": "https://localhost:8080/",
          "height": 356
        },
        "id": "6qyjW5AE-E43",
        "outputId": "9608971b-7111-4b59-8f4e-2c166671458a"
      },
      "outputs": [],
      "source": [
        "import panel as pn  \n",
        "import os\n",
        "import openai\n",
        "from dotenv import load_dotenv\n",
        "\n",
        "load_dotenv()\n",
        "\n",
        "openai.api_key = os.environ['OPENAI_API_KEY']\n",
        "\n",
        "\n",
        "\n",
        "def get_completion_from_messages(messages, model=\"gpt-3.5-turbo\", temperature=0):\n",
        "    response = openai.ChatCompletion.create(\n",
        "        model=model,\n",
        "        messages=messages,\n",
        "        temperature=temperature,  \n",
        "    )\n",
        "\n",
        "    return response.choices[0].message[\"content\"]\n",
        "\n",
        "\n",
        "def collect_messages(_):\n",
        "    prompt = inp.value_input\n",
        "    inp.value = ''\n",
        "    context.append({'role': 'user', 'content': f\"{prompt}\"})\n",
        "    response = get_completion_from_messages(context)\n",
        "    context.append({'role': 'assistant', 'content': f\"{response}\"})\n",
        "    panels.append(\n",
        "        pn.Row('User:', pn.pane.Markdown(prompt, width=600)))\n",
        "    panels.append(\n",
        "        pn.Row('Assistant:', pn.pane.Markdown(response, width=600, style={'background-color': '#F6F6F6'})))\n",
        "\n",
        "    return pn.Column(*panels)\n",
        "\n",
        "\n",
        "pn.extension()\n",
        "\n",
        "panels = []  # collect display\n",
        "\n"
      ]
    },
    {
      "cell_type": "code",
      "execution_count": null,
      "metadata": {
        "id": "Hpb_ob4h1fQu"
      },
      "outputs": [],
      "source": [
        "context = [{'role': 'system', 'content': \"\"\"\n",
        "You are OrderBot, an automated service to collect orders for a bakery. \\\n",
        "You first greet the customer, then collect the order, \\\n",
        "and then asks if it's a pickup or delivery. \\\n",
        "You wait to collect the entire order, then summarize it and check for a final \\\n",
        "time if the customer wants to add anything else. \\\n",
        "Make sure to ask if the customer wants to pay with cash or credit card.\\\n",
        "If it's a delivery, you ask for an address. \\\n",
        "Make sure to clarify all options, extras and sizes to uniquely \\\n",
        "identify the item from the menu.\\\n",
        "You respond in a short, very conversational friendly style. \\\n",
        "The menu includes \\\n",
        "Breads: \\\n",
        "white bread 10.00 \\\n",
        "whole wheat bread   10.95 \\\n",
        "rye bread   11.95 \\\n",
        "sourdough bread 14.35 \\\n",
        "multigrain bread 7.25 \\\n",
        "baguette 5.00 \\\n",
        "ciabatta 4.75 \\\n",
        "Cakes: \\\n",
        "chocolate cake 25.00, \\\n",
        "vanilla cake 26.50 \\\n",
        "carrot cake 22.00 \\\n",
        "birthday cake 18.50 \\\n",
        "lemon cake 25.50 \\\n",
        "meringue cake 45.00 \\\n",
        "Cookies: \\\n",
        "chocolate chip cookies 1.85 \\\n",
        "oatmeal raisin cookies 1.50 \\\n",
        "gingerbread cookies 2.00 \\\n",
        "peanut butter cookies 2.20 \\\n",
        "\n",
        "\"\"\"}]  # accumulate messages\n",
        "\n",
        "\n",
        "\n",
        "inp = pn.widgets.TextInput(value=\"Hi\", placeholder='Enter text here…')\n",
        "button_conversation = pn.widgets.Button(name=\"Chat!\")\n",
        "\n",
        "interactive_conversation = pn.bind(collect_messages, button_conversation)\n",
        "\n",
        "dashboard = pn.Column(\n",
        "    inp,\n",
        "    pn.Row(button_conversation),\n",
        "    pn.panel(interactive_conversation, loading_indicator=True, height=300),\n",
        ")\n",
        "\n",
        "dashboard"
      ]
    },
    {
      "cell_type": "code",
      "execution_count": null,
      "metadata": {
        "id": "e8BS8iTmOXoq"
      },
      "outputs": [],
      "source": [
        "messages =  context.copy()\n",
        "messages.append(\n",
        "{'role':'system', 'content':'create a json summary of the previous food order. Itemize the price for each item\\\n",
        " The fields in the first table should be 1) unique order id  2) total price \\\n",
        " Create tables for each unique item ordered and have following fields 1) item name 2) item quantity'},    \n",
        ")\n",
        "\n",
        "\n",
        "response = get_completion_from_messages(messages, temperature=0)\n",
        "print(response)"
      ]
    }
  ],
  "metadata": {
    "colab": {
      "provenance": []
    },
    "kernelspec": {
      "display_name": "Python 3",
      "name": "python3"
    },
    "language_info": {
      "name": "python"
    }
  },
  "nbformat": 4,
  "nbformat_minor": 0
}
